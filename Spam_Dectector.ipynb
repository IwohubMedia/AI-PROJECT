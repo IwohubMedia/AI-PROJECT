{
  "nbformat": 4,
  "nbformat_minor": 0,
  "metadata": {
    "colab": {
      "provenance": [],
      "authorship_tag": "ABX9TyNvcwmtSehXfjIG5XGy2T70",
      "include_colab_link": true
    },
    "kernelspec": {
      "name": "python3",
      "display_name": "Python 3"
    },
    "language_info": {
      "name": "python"
    }
  },
  "cells": [
    {
      "cell_type": "markdown",
      "metadata": {
        "id": "view-in-github",
        "colab_type": "text"
      },
      "source": [
        "<a href=\"https://colab.research.google.com/github/IwohubMedia/AI-PROJECT/blob/main/Spam_Dectector.ipynb\" target=\"_parent\"><img src=\"https://colab.research.google.com/assets/colab-badge.svg\" alt=\"Open In Colab\"/></a>"
      ]
    },
    {
      "cell_type": "code",
      "execution_count": 1,
      "metadata": {
        "colab": {
          "base_uri": "https://localhost:8080/"
        },
        "id": "1hvx0Rs9cXJo",
        "outputId": "22d27a03-15fd-4b85-9336-90eb1a07a894"
      },
      "outputs": [
        {
          "output_type": "stream",
          "name": "stdout",
          "text": [
            "--2025-08-21 21:06:07--  https://raw.githubusercontent.com/justmarkham/pycon-2016-tutorial/master/data/sms.tsv\n",
            "Resolving raw.githubusercontent.com (raw.githubusercontent.com)... 185.199.108.133, 185.199.110.133, 185.199.109.133, ...\n",
            "Connecting to raw.githubusercontent.com (raw.githubusercontent.com)|185.199.108.133|:443... connected.\n",
            "HTTP request sent, awaiting response... 200 OK\n",
            "Length: 477907 (467K) [text/plain]\n",
            "Saving to: ‘sms.tsv’\n",
            "\n",
            "sms.tsv             100%[===================>] 466.71K  --.-KB/s    in 0.04s   \n",
            "\n",
            "2025-08-21 21:06:07 (12.3 MB/s) - ‘sms.tsv’ saved [477907/477907]\n",
            "\n",
            "  label                                            message\n",
            "0   ham  Go until jurong point, crazy.. Available only ...\n",
            "1   ham                      Ok lar... Joking wif u oni...\n",
            "2  spam  Free entry in 2 a wkly comp to win FA Cup fina...\n",
            "3   ham  U dun say so early hor... U c already then say...\n",
            "4   ham  Nah I don't think he goes to usf, he lives aro...\n",
            "Accuracy: 0.9919282511210762\n",
            "['spam' 'ham']\n"
          ]
        }
      ],
      "source": [
        "# 📌 Step 1: Import libraries\n",
        "import pandas as pd\n",
        "from sklearn.model_selection import train_test_split\n",
        "from sklearn.feature_extraction.text import CountVectorizer\n",
        "from sklearn.naive_bayes import MultinomialNB\n",
        "from sklearn.metrics import accuracy_score\n",
        "\n",
        "# 📌 Step 2: Load dataset (SMS Spam Collection)\n",
        "!wget -nc https://raw.githubusercontent.com/justmarkham/pycon-2016-tutorial/master/data/sms.tsv\n",
        "\n",
        "# 📌 Step 3: Read the dataset\n",
        "df = pd.read_csv(\"sms.tsv\", sep=\"\\t\", header=None, names=[\"label\", \"message\"])\n",
        "print(df.head())\n",
        "\n",
        "# 📌 Step 4: Split into train and test data\n",
        "X_train, X_test, y_train, y_test = train_test_split(df['message'], df['label'], test_size=0.2, random_state=42)\n",
        "\n",
        "# 📌 Step 5: Convert text into numbers (Bag of Words)\n",
        "vectorizer = CountVectorizer()\n",
        "X_train_vec = vectorizer.fit_transform(X_train)\n",
        "X_test_vec = vectorizer.transform(X_test)\n",
        "\n",
        "# 📌 Step 6: Train model\n",
        "model = MultinomialNB()\n",
        "model.fit(X_train_vec, y_train)\n",
        "\n",
        "# 📌 Step 7: Test accuracy\n",
        "y_pred = model.predict(X_test_vec)\n",
        "print(\"Accuracy:\", accuracy_score(y_test, y_pred))\n",
        "\n",
        "# 📌 Step 8: Try your own messages\n",
        "sample = [\"Congratulations! You won a free iPhone! Click here to claim\",\n",
        "          \"Hello, Iwohub Media brings you the best education updates daily.\"]\n",
        "sample_vec = vectorizer.transform(sample)\n",
        "print(model.predict(sample_vec))"
      ]
    }
  ]
}