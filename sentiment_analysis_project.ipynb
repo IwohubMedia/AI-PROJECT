{
  "nbformat": 4,
  "nbformat_minor": 0,
  "metadata": {
    "colab": {
      "provenance": [],
      "toc_visible": true
    },
    "kernelspec": {
      "name": "python3",
      "display_name": "Python 3"
    },
    "language_info": {
      "name": "python"
    }
  },
  "cells": [
    {
      "cell_type": "code",
      "execution_count": 39,
      "metadata": {
        "id": "LUSfuxC6N3OX",
        "colab": {
          "base_uri": "https://localhost:8080/"
        },
        "outputId": "85764352-a2ae-4d5a-d8f6-0d316589d9eb"
      },
      "outputs": [
        {
          "output_type": "stream",
          "name": "stderr",
          "text": [
            "[nltk_data] Downloading package movie_reviews to /root/nltk_data...\n",
            "[nltk_data]   Package movie_reviews is already up-to-date!\n"
          ]
        },
        {
          "output_type": "stream",
          "name": "stdout",
          "text": [
            "Total samples: 2000\n"
          ]
        }
      ],
      "source": [
        "# Import required libraries\n",
        "import numpy as np\n",
        "import pandas as pd\n",
        "import nltk\n",
        "\n",
        "# Download movie reviews dataset\n",
        "nltk.download('movie_reviews')\n",
        "from nltk.corpus import movie_reviews\n",
        "\n",
        "# Prepare dataset: (words, category)\n",
        "docs = [(list(movie_reviews.words(fileid)), category)\n",
        "         for category in movie_reviews.categories()\n",
        "         for fileid in movie_reviews.fileids(category)]\n",
        "\n",
        "print(\"Total samples:\", len(docs))"
      ]
    },
    {
      "cell_type": "code",
      "source": [
        "from sklearn.feature_extraction.text import CountVectorizer\n",
        "from sklearn.model_selection import train_test_split\n",
        "\n",
        "# Join words into full sentences\n",
        "X = [\" \".join(words) for words, category in docs]\n",
        "y = [category for words, category in docs]\n",
        "\n",
        "# Convert text into a bag-of-words matrix\n",
        "vectorizer = CountVectorizer()\n",
        "X_vec = vectorizer.fit_transform(X)\n",
        "\n",
        "# Split into train and test\n",
        "X_train, X_test, y_train, y_test = train_test_split(X_vec, y, test_size=0.2, random_state=42)"
      ],
      "metadata": {
        "id": "pXcw3peKOPBI"
      },
      "execution_count": 40,
      "outputs": []
    },
    {
      "cell_type": "code",
      "source": [
        "from sklearn.naive_bayes import MultinomialNB\n",
        "\n",
        "# Train Naive Bayes model\n",
        "model = MultinomialNB()\n",
        "model.fit(X_train, y_train)\n",
        "\n",
        "print(\"Training complete!\")"
      ],
      "metadata": {
        "colab": {
          "base_uri": "https://localhost:8080/"
        },
        "id": "5_GqKX6rOWOC",
        "outputId": "ac6b825d-5d22-4c42-e7ad-b8f501e34236"
      },
      "execution_count": 41,
      "outputs": [
        {
          "output_type": "stream",
          "name": "stdout",
          "text": [
            "Training complete!\n"
          ]
        }
      ]
    },
    {
      "cell_type": "code",
      "source": [
        "from sklearn.metrics import accuracy_score\n",
        "\n",
        "y_pred = model.predict(X_test)\n",
        "print(\"Accuracy:\", accuracy_score(y_test, y_pred))"
      ],
      "metadata": {
        "colab": {
          "base_uri": "https://localhost:8080/"
        },
        "id": "CzMJ7uATOdbI",
        "outputId": "18a58585-d32e-4d31-c8df-23dfd61a1aa3"
      },
      "execution_count": 42,
      "outputs": [
        {
          "output_type": "stream",
          "name": "stdout",
          "text": [
            "Accuracy: 0.8225\n"
          ]
        }
      ]
    },
    {
      "cell_type": "code",
      "source": [
        "# Custom movie reviews\n",
        "sample = [\"Iwohub Media is a reputable company in the world\",\n",
        "          \"We deal with scholarship and education\" , \"Iwohub Media has help many student in the World\"]\n",
        "\n",
        "# Transform and predict\n",
        "sample_vec = vectorizer.transform(sample)\n",
        "print(model.predict(sample_vec))"
      ],
      "metadata": {
        "colab": {
          "base_uri": "https://localhost:8080/"
        },
        "id": "mTzEE5FQWmMf",
        "outputId": "3e331bc1-028b-43b9-bb3d-146b70e5f0cd"
      },
      "execution_count": 43,
      "outputs": [
        {
          "output_type": "stream",
          "name": "stdout",
          "text": [
            "['neg' 'neg' 'pos']\n"
          ]
        }
      ]
    }
  ]
}